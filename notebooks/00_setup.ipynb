{
 "cells": [
  {
   "metadata": {},
   "cell_type": "markdown",
   "source": "# Setup Script for Necessary Directories",
   "id": "3fc648a3e267149a"
  },
  {
   "metadata": {},
   "cell_type": "markdown",
   "source": "## Deps",
   "id": "d8231500cfc747c8"
  },
  {
   "metadata": {
    "collapsed": true
   },
   "cell_type": "code",
   "outputs": [],
   "execution_count": null,
   "source": "import os",
   "id": "initial_id"
  },
  {
   "metadata": {},
   "cell_type": "code",
   "outputs": [],
   "execution_count": null,
   "source": [
    "nltk_data_path = \"../data/libs/nltk_data\"\n",
    "raw_data_path = \"../data/raw\"\n",
    "processed_data_path = \"../data/processed\"\n",
    "results_path = \"../results\""
   ],
   "id": "4173ae6acbc6fd9b"
  },
  {
   "metadata": {},
   "cell_type": "code",
   "outputs": [],
   "execution_count": null,
   "source": [
    "os.makedirs(nltk_data_path, exist_ok=True)\n",
    "os.makedirs(raw_data_path, exist_ok=True)\n",
    "os.makedirs(processed_data_path, exist_ok=True)\n",
    "os.makedirs(results_path, exist_ok=True)"
   ],
   "id": "84b8f9f5646147e0"
  }
 ],
 "metadata": {
  "kernelspec": {
   "display_name": "Python 3",
   "language": "python",
   "name": "python3"
  },
  "language_info": {
   "codemirror_mode": {
    "name": "ipython",
    "version": 2
   },
   "file_extension": ".py",
   "mimetype": "text/x-python",
   "name": "python",
   "nbconvert_exporter": "python",
   "pygments_lexer": "ipython2",
   "version": "2.7.6"
  }
 },
 "nbformat": 4,
 "nbformat_minor": 5
}
